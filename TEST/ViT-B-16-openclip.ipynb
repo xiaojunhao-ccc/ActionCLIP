{
 "cells": [
  {
   "cell_type": "code",
   "execution_count": 2,
   "metadata": {},
   "outputs": [],
   "source": [
    "import open_clip\n",
    "import torch\n",
    "from PIL import Image\n",
    "\n",
    "# 加载 CLIP-ViT-B-16-DataComp\n",
    "model, preprocess_train, preprocess = open_clip.create_model_and_transforms('hf-hub:laion/CLIP-ViT-B-16-DataComp.XL-s13B-b90K')\n",
    "tokenizer = open_clip.get_tokenizer('hf-hub:laion/CLIP-ViT-B-16-DataComp.XL-s13B-b90K')"
   ]
  },
  {
   "cell_type": "code",
   "execution_count": 3,
   "metadata": {},
   "outputs": [
    {
     "name": "stdout",
     "output_type": "stream",
     "text": [
      "模型参数总量: 149,620,737\n"
     ]
    }
   ],
   "source": [
    "# 计算参数总量\n",
    "total_params = sum(p.numel() for p in model.parameters())\n",
    "print(f\"模型参数总量: {total_params:,}\")  # 逗号分隔便于阅读"
   ]
  },
  {
   "cell_type": "code",
   "execution_count": 12,
   "metadata": {},
   "outputs": [
    {
     "name": "stdout",
     "output_type": "stream",
     "text": [
      "Label probs: tensor([[7.8046e-06, 1.0589e-05, 2.3992e-06, 9.9998e-01]])\n"
     ]
    }
   ],
   "source": [
    "model.eval()  # model in train mode by default, impacts some models with BatchNorm or stochastic depth active\n",
    "image = preprocess(Image.open(\"motor.jpg\")).unsqueeze(0)\n",
    "text = tokenizer([\"a car\", \"a people\",\"a cat\", \"in elevator\"])\n",
    "\n",
    "with torch.no_grad(), torch.cuda.amp.autocast():\n",
    "    image_features = model.encode_image(image)\n",
    "    text_features = model.encode_text(text)\n",
    "    image_features /= image_features.norm(dim=-1, keepdim=True)\n",
    "    text_features /= text_features.norm(dim=-1, keepdim=True)\n",
    "\n",
    "    text_probs = (100.0 * image_features @ text_features.T).softmax(dim=-1)\n",
    "\n",
    "print(\"Label probs:\", text_probs)  # prints: [[1., 0., 0.]]"
   ]
  },
  {
   "cell_type": "code",
   "execution_count": null,
   "metadata": {},
   "outputs": [],
   "source": []
  }
 ],
 "metadata": {
  "kernelspec": {
   "display_name": "Python 3",
   "language": "python",
   "name": "python3"
  },
  "language_info": {
   "codemirror_mode": {
    "name": "ipython",
    "version": 3
   },
   "file_extension": ".py",
   "mimetype": "text/x-python",
   "name": "python",
   "nbconvert_exporter": "python",
   "pygments_lexer": "ipython3",
   "version": "3.8.10"
  }
 },
 "nbformat": 4,
 "nbformat_minor": 2
}
